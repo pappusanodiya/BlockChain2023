{
 "cells": [
  {
   "cell_type": "code",
   "execution_count": null,
   "id": "f50163ab",
   "metadata": {},
   "outputs": [],
   "source": [
    "import hashlib"
   ]
  },
  {
   "cell_type": "code",
   "execution_count": null,
   "id": "e618afc4",
   "metadata": {},
   "outputs": [],
   "source": [
    "hashlib.sha256( \"vimal300\".encode() + \"502\".encode() ).hexdigest()"
   ]
  },
  {
   "cell_type": "code",
   "execution_count": null,
   "id": "2888d169",
   "metadata": {},
   "outputs": [],
   "source": [
    "# Problem : \"0000\""
   ]
  },
  {
   "cell_type": "code",
   "execution_count": null,
   "id": "db6e31f3",
   "metadata": {},
   "outputs": [],
   "source": []
  },
  {
   "cell_type": "code",
   "execution_count": null,
   "id": "e1707896",
   "metadata": {},
   "outputs": [],
   "source": [
    "#md5"
   ]
  },
  {
   "cell_type": "code",
   "execution_count": null,
   "id": "82da6d45",
   "metadata": {
    "scrolled": true
   },
   "outputs": [],
   "source": [
    "# \"vimal300\" -- blockdata\n",
    "# \"3000\" - nounce - proof\n",
    "\n",
    "# POW : proof of work\n",
    "\n",
    "hashlib.sha256( \"vimal300\".encode() + \"3000\".encode() ).hexdigest()"
   ]
  },
  {
   "cell_type": "code",
   "execution_count": null,
   "id": "5936ece6",
   "metadata": {},
   "outputs": [],
   "source": [
    "# problem : \"0000\""
   ]
  },
  {
   "cell_type": "code",
   "execution_count": null,
   "id": "714afa00",
   "metadata": {},
   "outputs": [],
   "source": [
    "# solving is hard, verify is faster"
   ]
  },
  {
   "cell_type": "code",
   "execution_count": null,
   "id": "e5d8083b",
   "metadata": {},
   "outputs": [],
   "source": [
    "block1 = { \n",
    "    \"index\":1,\n",
    "    \"timestamp\": \"13th oct 2023\",\n",
    "    \"proof\": 3000,\n",
    "    \"data_job\": 12,\n",
    "    \"previous_hash\": \"wefghrt\"\n",
    "    \n",
    "}"
   ]
  },
  {
   "cell_type": "code",
   "execution_count": null,
   "id": "c09b8f60",
   "metadata": {},
   "outputs": [],
   "source": [
    "block1"
   ]
  },
  {
   "cell_type": "code",
   "execution_count": null,
   "id": "742b849b",
   "metadata": {},
   "outputs": [],
   "source": [
    "block2 = { \n",
    "    \"index\":2,\n",
    "    \"timestamp\": \"13th oct 2023\",\n",
    "    \"proof\": 3400,\n",
    "    \"data_job\": 5,\n",
    "    \"previous_hash\": \"wefghrt\"\n",
    "    \n",
    "}"
   ]
  },
  {
   "cell_type": "code",
   "execution_count": null,
   "id": "7710e8f2",
   "metadata": {},
   "outputs": [],
   "source": [
    "block2"
   ]
  },
  {
   "cell_type": "code",
   "execution_count": null,
   "id": "720e7ec8",
   "metadata": {},
   "outputs": [],
   "source": [
    "mybc = [block1, block2]"
   ]
  },
  {
   "cell_type": "code",
   "execution_count": null,
   "id": "1655f64b",
   "metadata": {
    "scrolled": true
   },
   "outputs": [],
   "source": [
    "mybc"
   ]
  },
  {
   "cell_type": "code",
   "execution_count": null,
   "id": "0a277277",
   "metadata": {},
   "outputs": [],
   "source": [
    "block3 = { \n",
    "    \"index\":3,\n",
    "    \"timestamp\": \"14th oct 2023\",\n",
    "    \"proof\": 3400,\n",
    "    \"data_job\": 300,\n",
    "    \"previous_hash\": \"hbhbthri\"\n",
    "    \n",
    "}"
   ]
  },
  {
   "cell_type": "code",
   "execution_count": null,
   "id": "1b3f3c7d",
   "metadata": {},
   "outputs": [],
   "source": [
    "# POW\n",
    "# Mining\n",
    "# Proof\n",
    "mybc.append(block3)"
   ]
  },
  {
   "cell_type": "code",
   "execution_count": null,
   "id": "32bb8845",
   "metadata": {},
   "outputs": [],
   "source": [
    "mybc"
   ]
  },
  {
   "cell_type": "code",
   "execution_count": null,
   "id": "6b4240ce",
   "metadata": {},
   "outputs": [],
   "source": [
    "len(mybc)"
   ]
  },
  {
   "cell_type": "code",
   "execution_count": 1,
   "id": "001c7522",
   "metadata": {},
   "outputs": [],
   "source": [
    "import datetime\n",
    "import json\n",
    "import hashlib"
   ]
  },
  {
   "cell_type": "code",
   "execution_count": 2,
   "id": "4a6d66f2",
   "metadata": {},
   "outputs": [],
   "source": [
    "import datetime\n",
    "import json\n",
    "import hashlib\n",
    "\n",
    "\n",
    "class LWBlockChain:\n",
    "    # Constructor\n",
    "    def __init__(self):\n",
    "        # Store my block : BC\n",
    "        self.chain = []\n",
    "        \n",
    "        # Genesis Block\n",
    "        self.create_block(data=None, proof=1, previous_hash=None)\n",
    "        \n",
    "    \n",
    "    def create_block(self, data, proof, previous_hash):\n",
    "        block = {\n",
    "            \"index\": len(self.chain) + 1,\n",
    "            \"timestamp\": str ( datetime.datetime.now()),\n",
    "            \"proof\": proof,\n",
    "            \"data_job\": data,\n",
    "            \"previous_hash\": previous_hash\n",
    "            }\n",
    "        \n",
    "        self.chain.append(block)\n",
    "    \n",
    "    def get_previous_block(self):\n",
    "        return self.chain[-1]\n",
    "    \n",
    "    # POW : Mining\n",
    "    def proof_of_work(self, previous_proof):\n",
    "        \n",
    "        new_proof = 1\n",
    "        \n",
    "        while True:    \n",
    "            hash_operation = hashlib.sha256( str (new_proof**2 - previous_proof**2 ).encode()).hexdigest()\n",
    "            if hash_operation[0:4] == '0000':\n",
    "                print(\"Mining done\")\n",
    "                print(hash_operation)\n",
    "                break\n",
    "            else:\n",
    "                new_proof +=1\n",
    "        \n",
    "        return new_proof\n",
    "    \n",
    "    \n",
    "    def hash(self, block):\n",
    "        return hashlib.sha256(json.dumps(block, sort_keys=True).encode()).hexdigest()\n",
    "        \n",
    "\n"
   ]
  },
  {
   "cell_type": "code",
   "execution_count": 3,
   "id": "4eea1944",
   "metadata": {},
   "outputs": [],
   "source": [
    "myledger = LWBlockChain()"
   ]
  },
  {
   "cell_type": "code",
   "execution_count": null,
   "id": "7864a3bc",
   "metadata": {},
   "outputs": [],
   "source": [
    "previous_block = myledger.get_previous_block()"
   ]
  },
  {
   "cell_type": "code",
   "execution_count": null,
   "id": "12928365",
   "metadata": {},
   "outputs": [],
   "source": [
    "previous_hash = myledger.hash(previous_block)"
   ]
  },
  {
   "cell_type": "code",
   "execution_count": null,
   "id": "df8b95a3",
   "metadata": {},
   "outputs": [],
   "source": [
    "previous_block_proof = previous_block[\"proof\"]"
   ]
  },
  {
   "cell_type": "code",
   "execution_count": null,
   "id": "76ba8862",
   "metadata": {},
   "outputs": [],
   "source": [
    "myproof = myledger.proof_of_work(previous_block_proof)"
   ]
  },
  {
   "cell_type": "code",
   "execution_count": null,
   "id": "1864917b",
   "metadata": {},
   "outputs": [],
   "source": [
    "myledger.create_block(data=12, proof=myproof, previous_hash=previous_hash)"
   ]
  },
  {
   "cell_type": "code",
   "execution_count": null,
   "id": "91461490",
   "metadata": {},
   "outputs": [],
   "source": [
    "myproof"
   ]
  },
  {
   "cell_type": "code",
   "execution_count": null,
   "id": "8e62f920",
   "metadata": {},
   "outputs": [],
   "source": []
  },
  {
   "cell_type": "code",
   "execution_count": 4,
   "id": "e329f143",
   "metadata": {},
   "outputs": [],
   "source": [
    "from flask import Flask, jsonify"
   ]
  },
  {
   "cell_type": "code",
   "execution_count": 5,
   "id": "22574ee1",
   "metadata": {},
   "outputs": [],
   "source": [
    "app = Flask(__name__)"
   ]
  },
  {
   "cell_type": "code",
   "execution_count": null,
   "id": "dd5d1e6d",
   "metadata": {},
   "outputs": [],
   "source": []
  },
  {
   "cell_type": "code",
   "execution_count": 9,
   "id": "2d20c331",
   "metadata": {},
   "outputs": [
    {
     "ename": "AssertionError",
     "evalue": "View function mapping is overwriting an existing endpoint function: mine_block",
     "output_type": "error",
     "traceback": [
      "\u001b[1;31m---------------------------------------------------------------------------\u001b[0m",
      "\u001b[1;31mAssertionError\u001b[0m                            Traceback (most recent call last)",
      "Cell \u001b[1;32mIn[9], line 1\u001b[0m\n\u001b[1;32m----> 1\u001b[0m \u001b[38;5;129;43m@app\u001b[39;49m\u001b[38;5;241;43m.\u001b[39;49m\u001b[43mroute\u001b[49m\u001b[43m(\u001b[49m\u001b[38;5;124;43m\"\u001b[39;49m\u001b[38;5;124;43m/mine_block\u001b[39;49m\u001b[38;5;124;43m\"\u001b[39;49m\u001b[43m,\u001b[49m\u001b[43m \u001b[49m\u001b[43mmethods\u001b[49m\u001b[38;5;241;43m=\u001b[39;49m\u001b[43m[\u001b[49m\u001b[38;5;124;43m\"\u001b[39;49m\u001b[38;5;124;43mGET\u001b[39;49m\u001b[38;5;124;43m\"\u001b[39;49m\u001b[43m]\u001b[49m\u001b[43m)\u001b[49m\n\u001b[0;32m      2\u001b[0m \u001b[38;5;28;43;01mdef\u001b[39;49;00m\u001b[43m \u001b[49m\u001b[38;5;21;43mmine_block\u001b[39;49m\u001b[43m(\u001b[49m\u001b[43mmydata\u001b[49m\u001b[38;5;241;43m=\u001b[39;49m\u001b[38;5;241;43m60\u001b[39;49m\u001b[43m)\u001b[49m\u001b[43m:\u001b[49m\n\u001b[0;32m      3\u001b[0m \u001b[43m    \u001b[49m\u001b[43mprevious_block\u001b[49m\u001b[43m \u001b[49m\u001b[38;5;241;43m=\u001b[39;49m\u001b[43m \u001b[49m\u001b[43mmyledger\u001b[49m\u001b[38;5;241;43m.\u001b[39;49m\u001b[43mget_previous_block\u001b[49m\u001b[43m(\u001b[49m\u001b[43m)\u001b[49m\n\u001b[0;32m      4\u001b[0m \u001b[43m    \u001b[49m\u001b[43mprevious_hash\u001b[49m\u001b[43m \u001b[49m\u001b[38;5;241;43m=\u001b[39;49m\u001b[43m \u001b[49m\u001b[43mmyledger\u001b[49m\u001b[38;5;241;43m.\u001b[39;49m\u001b[43mhash\u001b[49m\u001b[43m(\u001b[49m\u001b[43mprevious_block\u001b[49m\u001b[43m)\u001b[49m\n",
      "File \u001b[1;32m~\\AppData\\Local\\Programs\\Python\\Python311\\Lib\\site-packages\\flask\\scaffold.py:436\u001b[0m, in \u001b[0;36mScaffold.route.<locals>.decorator\u001b[1;34m(f)\u001b[0m\n\u001b[0;32m    434\u001b[0m \u001b[38;5;28;01mdef\u001b[39;00m \u001b[38;5;21mdecorator\u001b[39m(f: T_route) \u001b[38;5;241m-\u001b[39m\u001b[38;5;241m>\u001b[39m T_route:\n\u001b[0;32m    435\u001b[0m     endpoint \u001b[38;5;241m=\u001b[39m options\u001b[38;5;241m.\u001b[39mpop(\u001b[38;5;124m\"\u001b[39m\u001b[38;5;124mendpoint\u001b[39m\u001b[38;5;124m\"\u001b[39m, \u001b[38;5;28;01mNone\u001b[39;00m)\n\u001b[1;32m--> 436\u001b[0m     \u001b[38;5;28;43mself\u001b[39;49m\u001b[38;5;241;43m.\u001b[39;49m\u001b[43madd_url_rule\u001b[49m\u001b[43m(\u001b[49m\u001b[43mrule\u001b[49m\u001b[43m,\u001b[49m\u001b[43m \u001b[49m\u001b[43mendpoint\u001b[49m\u001b[43m,\u001b[49m\u001b[43m \u001b[49m\u001b[43mf\u001b[49m\u001b[43m,\u001b[49m\u001b[43m \u001b[49m\u001b[38;5;241;43m*\u001b[39;49m\u001b[38;5;241;43m*\u001b[39;49m\u001b[43moptions\u001b[49m\u001b[43m)\u001b[49m\n\u001b[0;32m    437\u001b[0m     \u001b[38;5;28;01mreturn\u001b[39;00m f\n",
      "File \u001b[1;32m~\\AppData\\Local\\Programs\\Python\\Python311\\Lib\\site-packages\\flask\\scaffold.py:51\u001b[0m, in \u001b[0;36msetupmethod.<locals>.wrapper_func\u001b[1;34m(self, *args, **kwargs)\u001b[0m\n\u001b[0;32m     49\u001b[0m \u001b[38;5;28;01mdef\u001b[39;00m \u001b[38;5;21mwrapper_func\u001b[39m(\u001b[38;5;28mself\u001b[39m, \u001b[38;5;241m*\u001b[39margs: t\u001b[38;5;241m.\u001b[39mAny, \u001b[38;5;241m*\u001b[39m\u001b[38;5;241m*\u001b[39mkwargs: t\u001b[38;5;241m.\u001b[39mAny) \u001b[38;5;241m-\u001b[39m\u001b[38;5;241m>\u001b[39m t\u001b[38;5;241m.\u001b[39mAny:\n\u001b[0;32m     50\u001b[0m     \u001b[38;5;28mself\u001b[39m\u001b[38;5;241m.\u001b[39m_check_setup_finished(f_name)\n\u001b[1;32m---> 51\u001b[0m     \u001b[38;5;28;01mreturn\u001b[39;00m \u001b[43mf\u001b[49m\u001b[43m(\u001b[49m\u001b[38;5;28;43mself\u001b[39;49m\u001b[43m,\u001b[49m\u001b[43m \u001b[49m\u001b[38;5;241;43m*\u001b[39;49m\u001b[43margs\u001b[49m\u001b[43m,\u001b[49m\u001b[43m \u001b[49m\u001b[38;5;241;43m*\u001b[39;49m\u001b[38;5;241;43m*\u001b[39;49m\u001b[43mkwargs\u001b[49m\u001b[43m)\u001b[49m\n",
      "File \u001b[1;32m~\\AppData\\Local\\Programs\\Python\\Python311\\Lib\\site-packages\\flask\\app.py:1059\u001b[0m, in \u001b[0;36mFlask.add_url_rule\u001b[1;34m(self, rule, endpoint, view_func, provide_automatic_options, **options)\u001b[0m\n\u001b[0;32m   1057\u001b[0m old_func \u001b[38;5;241m=\u001b[39m \u001b[38;5;28mself\u001b[39m\u001b[38;5;241m.\u001b[39mview_functions\u001b[38;5;241m.\u001b[39mget(endpoint)\n\u001b[0;32m   1058\u001b[0m \u001b[38;5;28;01mif\u001b[39;00m old_func \u001b[38;5;129;01mis\u001b[39;00m \u001b[38;5;129;01mnot\u001b[39;00m \u001b[38;5;28;01mNone\u001b[39;00m \u001b[38;5;129;01mand\u001b[39;00m old_func \u001b[38;5;241m!=\u001b[39m view_func:\n\u001b[1;32m-> 1059\u001b[0m     \u001b[38;5;28;01mraise\u001b[39;00m \u001b[38;5;167;01mAssertionError\u001b[39;00m(\n\u001b[0;32m   1060\u001b[0m         \u001b[38;5;124m\"\u001b[39m\u001b[38;5;124mView function mapping is overwriting an existing\u001b[39m\u001b[38;5;124m\"\u001b[39m\n\u001b[0;32m   1061\u001b[0m         \u001b[38;5;124mf\u001b[39m\u001b[38;5;124m\"\u001b[39m\u001b[38;5;124m endpoint function: \u001b[39m\u001b[38;5;132;01m{\u001b[39;00mendpoint\u001b[38;5;132;01m}\u001b[39;00m\u001b[38;5;124m\"\u001b[39m\n\u001b[0;32m   1062\u001b[0m     )\n\u001b[0;32m   1063\u001b[0m \u001b[38;5;28mself\u001b[39m\u001b[38;5;241m.\u001b[39mview_functions[endpoint] \u001b[38;5;241m=\u001b[39m view_func\n",
      "\u001b[1;31mAssertionError\u001b[0m: View function mapping is overwriting an existing endpoint function: mine_block"
     ]
    }
   ],
   "source": [
    "@app.route(\"/mine_block\", methods=[\"GET\"])\n",
    "def mine_block(mydata=60):\n",
    "    previous_block = myledger.get_previous_block()\n",
    "    previous_hash = myledger.hash(previous_block)\n",
    "    previous_block_proof = previous_block[\"proof\"]\n",
    "    myproof = myledger.proof_of_work(previous_block_proof)\n",
    "    myledger.create_block(data=mydata, proof=myproof, previous_hash=previous_hash)\n",
    "    \n",
    "    return \"Mining Done\"\n"
   ]
  },
  {
   "cell_type": "code",
   "execution_count": 7,
   "id": "06ab2fd6",
   "metadata": {},
   "outputs": [],
   "source": [
    "@app.route(\"/get_chain\", methods=[\"GET\"])\n",
    "def getChain():\n",
    "    return myledger.chain"
   ]
  },
  {
   "cell_type": "code",
   "execution_count": null,
   "id": "dc63c68d",
   "metadata": {},
   "outputs": [
    {
     "name": "stdout",
     "output_type": "stream",
     "text": [
      " * Serving Flask app '__main__'\n",
      " * Debug mode: off\n"
     ]
    },
    {
     "name": "stderr",
     "output_type": "stream",
     "text": [
      "WARNING: This is a development server. Do not use it in a production deployment. Use a production WSGI server instead.\n",
      " * Running on http://127.0.0.1:5000\n",
      "Press CTRL+C to quit\n",
      "127.0.0.1 - - [24/Sep/2023 14:50:17] \"GET /get_chain HTTP/1.1\" 200 -\n",
      "127.0.0.1 - - [24/Sep/2023 14:50:25] \"GET /get_chain HTTP/1.1\" 200 -\n",
      "127.0.0.1 - - [24/Sep/2023 14:50:26] \"GET /get_chain HTTP/1.1\" 200 -\n",
      "127.0.0.1 - - [24/Sep/2023 14:50:28] \"GET /mine_block HTTP/1.1\" 200 -\n"
     ]
    },
    {
     "name": "stdout",
     "output_type": "stream",
     "text": [
      "Mining done\n",
      "00004bd97b406d4c157b1f3293466d414711218bf9b44502fc96208a9ad4b3fb\n"
     ]
    },
    {
     "name": "stderr",
     "output_type": "stream",
     "text": [
      "127.0.0.1 - - [24/Sep/2023 14:51:38] \"GET /mine_block HTTP/1.1\" 200 -\n"
     ]
    },
    {
     "name": "stdout",
     "output_type": "stream",
     "text": [
      "Mining done\n",
      "00000f1a0dbcb6f6e74d8b2e15153e0320119ed7cb7519683bc116851d6d4fc3\n"
     ]
    },
    {
     "name": "stderr",
     "output_type": "stream",
     "text": [
      "127.0.0.1 - - [24/Sep/2023 14:51:44] \"GET /get_chain HTTP/1.1\" 200 -\n",
      "127.0.0.1 - - [24/Sep/2023 14:51:47] \"GET /mine_block HTTP/1.1\" 200 -\n"
     ]
    },
    {
     "name": "stdout",
     "output_type": "stream",
     "text": [
      "Mining done\n",
      "0000da4012ef88a954b83b6d188fca1d354973ded35762e3fabb875024aa2768\n"
     ]
    },
    {
     "name": "stderr",
     "output_type": "stream",
     "text": [
      "127.0.0.1 - - [24/Sep/2023 14:51:50] \"GET /get_chain HTTP/1.1\" 200 -\n"
     ]
    }
   ],
   "source": [
    "app.run()"
   ]
  },
  {
   "cell_type": "code",
   "execution_count": null,
   "id": "5e1618f0",
   "metadata": {},
   "outputs": [],
   "source": []
  },
  {
   "cell_type": "code",
   "execution_count": null,
   "id": "9534ce8c",
   "metadata": {},
   "outputs": [],
   "source": [
    "getChain()"
   ]
  },
  {
   "cell_type": "code",
   "execution_count": 11,
   "id": "862d6e90",
   "metadata": {},
   "outputs": [
    {
     "name": "stdout",
     "output_type": "stream",
     "text": [
      "Mining done\n",
      "000012c643d9610a15e350cb92ec6386b2b15e9d4170a0f06a4fd8525e440207\n"
     ]
    },
    {
     "data": {
      "text/plain": [
       "'Mining Done'"
      ]
     },
     "execution_count": 11,
     "metadata": {},
     "output_type": "execute_result"
    }
   ],
   "source": [
    "mine_block(12)"
   ]
  },
  {
   "cell_type": "code",
   "execution_count": 12,
   "id": "3633b44e",
   "metadata": {},
   "outputs": [
    {
     "data": {
      "text/plain": [
       "4"
      ]
     },
     "execution_count": 12,
     "metadata": {},
     "output_type": "execute_result"
    }
   ],
   "source": [
    "len ( myledger.chain )"
   ]
  },
  {
   "cell_type": "code",
   "execution_count": null,
   "id": "a561cd04",
   "metadata": {},
   "outputs": [],
   "source": [
    "myledger.chain"
   ]
  },
  {
   "cell_type": "code",
   "execution_count": null,
   "id": "87db82f9",
   "metadata": {},
   "outputs": [],
   "source": []
  },
  {
   "cell_type": "code",
   "execution_count": null,
   "id": "1c733583",
   "metadata": {},
   "outputs": [],
   "source": []
  },
  {
   "cell_type": "code",
   "execution_count": null,
   "id": "8e20f0da",
   "metadata": {},
   "outputs": [],
   "source": []
  },
  {
   "cell_type": "code",
   "execution_count": null,
   "id": "475ffcb3",
   "metadata": {},
   "outputs": [],
   "source": []
  },
  {
   "cell_type": "code",
   "execution_count": null,
   "id": "33f737dd",
   "metadata": {},
   "outputs": [],
   "source": []
  },
  {
   "cell_type": "code",
   "execution_count": null,
   "id": "5b399f6b",
   "metadata": {},
   "outputs": [],
   "source": []
  },
  {
   "cell_type": "code",
   "execution_count": null,
   "id": "3f7cad52",
   "metadata": {},
   "outputs": [],
   "source": []
  },
  {
   "cell_type": "code",
   "execution_count": null,
   "id": "610cdbbc",
   "metadata": {},
   "outputs": [],
   "source": []
  },
  {
   "cell_type": "code",
   "execution_count": null,
   "id": "b673f5cb",
   "metadata": {},
   "outputs": [],
   "source": []
  },
  {
   "cell_type": "code",
   "execution_count": null,
   "id": "7cebbb6a",
   "metadata": {},
   "outputs": [],
   "source": []
  },
  {
   "cell_type": "code",
   "execution_count": null,
   "id": "eab1cff3",
   "metadata": {},
   "outputs": [],
   "source": [
    "# myfirstbc.create_block(data=12, proof=3100, previous_hash=\"dggf\")"
   ]
  },
  {
   "cell_type": "code",
   "execution_count": null,
   "id": "0d7c5ebb",
   "metadata": {},
   "outputs": [],
   "source": [
    "hash_operation = hashlib.sha256( \"3000\".encode() + \"502\".encode() ).hexdigest()"
   ]
  },
  {
   "cell_type": "code",
   "execution_count": null,
   "id": "06e95f78",
   "metadata": {},
   "outputs": [],
   "source": [
    "hash_operation[0:4] == \"0000\""
   ]
  },
  {
   "cell_type": "code",
   "execution_count": null,
   "id": "cc0b05a9",
   "metadata": {},
   "outputs": [],
   "source": [
    "block2 = { \n",
    "    \"index\":2,\n",
    "    \"timestamp\": \"13th oct 2023\",\n",
    "    \"proof\": 3400,\n",
    "    \"data_job\": 5,\n",
    "    \"current_hash\": \"dsbbsb\"\n",
    "    \"previous_hash\": \"wefgtht\"\n",
    "    \n",
    "}"
   ]
  },
  {
   "cell_type": "code",
   "execution_count": null,
   "id": "afb69047",
   "metadata": {},
   "outputs": [],
   "source": [
    "hashlib.sha256(json.dumps(block2, sort_keys=True).encode()).hexdigest()"
   ]
  },
  {
   "cell_type": "code",
   "execution_count": null,
   "id": "a4a1cc3a",
   "metadata": {},
   "outputs": [],
   "source": [
    "import json"
   ]
  },
  {
   "cell_type": "code",
   "execution_count": null,
   "id": "bd51e4bd",
   "metadata": {},
   "outputs": [],
   "source": [
    "json.dumps(block2, sort_keys=True)"
   ]
  },
  {
   "cell_type": "code",
   "execution_count": null,
   "id": "87303399",
   "metadata": {},
   "outputs": [],
   "source": [
    "def hash(block):\n",
    "        return hashlib.sha256(json.dumps(block, sort_keys=True).encode()).hexdigest()\n",
    "        "
   ]
  },
  {
   "cell_type": "code",
   "execution_count": null,
   "id": "08d6fc87",
   "metadata": {},
   "outputs": [],
   "source": [
    "hash(2)"
   ]
  },
  {
   "cell_type": "code",
   "execution_count": null,
   "id": "2e8f248c",
   "metadata": {},
   "outputs": [],
   "source": []
  },
  {
   "cell_type": "code",
   "execution_count": null,
   "id": "afcdfd08",
   "metadata": {},
   "outputs": [],
   "source": []
  },
  {
   "cell_type": "code",
   "execution_count": null,
   "id": "8f1b8593",
   "metadata": {},
   "outputs": [],
   "source": []
  }
 ],
 "metadata": {
  "kernelspec": {
   "display_name": "Python 3 (ipykernel)",
   "language": "python",
   "name": "python3"
  },
  "language_info": {
   "codemirror_mode": {
    "name": "ipython",
    "version": 3
   },
   "file_extension": ".py",
   "mimetype": "text/x-python",
   "name": "python",
   "nbconvert_exporter": "python",
   "pygments_lexer": "ipython3",
   "version": "3.11.0"
  }
 },
 "nbformat": 4,
 "nbformat_minor": 5
}
