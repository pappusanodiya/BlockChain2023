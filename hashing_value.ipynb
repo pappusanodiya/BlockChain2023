{
 "cells": [
  {
   "cell_type": "code",
   "execution_count": 1,
   "id": "278e949f",
   "metadata": {},
   "outputs": [
    {
     "data": {
      "text/plain": [
       "'vimal'"
      ]
     },
     "execution_count": 1,
     "metadata": {},
     "output_type": "execute_result"
    }
   ],
   "source": [
    "\"vimal\""
   ]
  },
  {
   "cell_type": "code",
   "execution_count": 2,
   "id": "ed7b63d5",
   "metadata": {},
   "outputs": [],
   "source": [
    "import hashlib"
   ]
  },
  {
   "cell_type": "code",
   "execution_count": 4,
   "id": "2fff1702",
   "metadata": {},
   "outputs": [
    {
     "data": {
      "text/plain": [
       "'5a8fa4de51e55f9f0973b9665658472327367f922c5ad811db1f54b7dc9d6ce4'"
      ]
     },
     "execution_count": 4,
     "metadata": {},
     "output_type": "execute_result"
    }
   ],
   "source": [
    "hashlib.sha256(\"vimal\".encode()).hexdigest()"
   ]
  },
  {
   "cell_type": "code",
   "execution_count": 6,
   "id": "b72802ff",
   "metadata": {},
   "outputs": [
    {
     "data": {
      "text/plain": [
       "'d5ce627dfc8c49887f6185028c8640a579aa9cf4634d5b892e09940a55b4d9ed'"
      ]
     },
     "execution_count": 6,
     "metadata": {},
     "output_type": "execute_result"
    }
   ],
   "source": [
    "hashlib.sha256(\"vimall\".encode()).hexdigest()"
   ]
  },
  {
   "cell_type": "code",
   "execution_count": 9,
   "id": "7ca2603c",
   "metadata": {},
   "outputs": [
    {
     "data": {
      "text/plain": [
       "False"
      ]
     },
     "execution_count": 9,
     "metadata": {},
     "output_type": "execute_result"
    }
   ],
   "source": [
    "hashlib.sha256(\"100\".encode()).hexdigest() == hashlib.sha256(\"1000\".encode()).hexdigest()"
   ]
  },
  {
   "cell_type": "code",
   "execution_count": 8,
   "id": "8469777b",
   "metadata": {},
   "outputs": [
    {
     "data": {
      "text/plain": [
       "'40510175845988f13f6162ed8526f0b09f73384467fa855e1e79b44a56562a58'"
      ]
     },
     "execution_count": 8,
     "metadata": {},
     "output_type": "execute_result"
    }
   ],
   "source": [
    "hashlib.sha256(\"1000\".encode()).hexdigest()"
   ]
  },
  {
   "cell_type": "code",
   "execution_count": 15,
   "id": "cb89b949",
   "metadata": {},
   "outputs": [
    {
     "data": {
      "text/plain": [
       "'ffb1e12767bad3ff1a0ccc7dbe792f7010ecddfe59b7f7f19e85486a3b2008fd'"
      ]
     },
     "execution_count": 15,
     "metadata": {},
     "output_type": "execute_result"
    }
   ],
   "source": [
    "hashlib.sha256(\"eric-200\".encode()).hexdigest()"
   ]
  },
  {
   "cell_type": "code",
   "execution_count": 16,
   "id": "509890ed",
   "metadata": {},
   "outputs": [
    {
     "data": {
      "text/plain": [
       "'1d2126a7df7bfb8f335cb8774e1e1c944930aa0436d6537c9ef1b342a5bdb9cb'"
      ]
     },
     "execution_count": 16,
     "metadata": {},
     "output_type": "execute_result"
    }
   ],
   "source": [
    "hashlib.sha256(\"vimal-100\".encode()).hexdigest()"
   ]
  },
  {
   "cell_type": "code",
   "execution_count": 17,
   "id": "62f603b6",
   "metadata": {},
   "outputs": [
    {
     "data": {
      "text/plain": [
       "'1c09723df109356941af1ee85804d7c9c7bbbabd841c86c949327d5968a0c5b4'"
      ]
     },
     "execution_count": 17,
     "metadata": {},
     "output_type": "execute_result"
    }
   ],
   "source": [
    "hashlib.sha256(\"tom-50\".encode()).hexdigest()"
   ]
  },
  {
   "cell_type": "code",
   "execution_count": null,
   "id": "c7bd63fc",
   "metadata": {},
   "outputs": [],
   "source": []
  },
  {
   "cell_type": "code",
   "execution_count": null,
   "id": "b31fc81e",
   "metadata": {},
   "outputs": [],
   "source": []
  },
  {
   "cell_type": "code",
   "execution_count": 19,
   "id": "db1bb39a",
   "metadata": {},
   "outputs": [
    {
     "data": {
      "text/plain": [
       "'88acab7c5caac6f859c7625c13e6e39544aac25ecaed22c563b3ca2e944a430b'"
      ]
     },
     "execution_count": 19,
     "metadata": {},
     "output_type": "execute_result"
    }
   ],
   "source": [
    "hashlib.sha256(\"eric-200000\".encode()).hexdigest()"
   ]
  },
  {
   "cell_type": "code",
   "execution_count": null,
   "id": "67f44b76",
   "metadata": {},
   "outputs": [],
   "source": []
  }
 ],
 "metadata": {
  "kernelspec": {
   "display_name": "Python 3 (ipykernel)",
   "language": "python",
   "name": "python3"
  },
  "language_info": {
   "codemirror_mode": {
    "name": "ipython",
    "version": 3
   },
   "file_extension": ".py",
   "mimetype": "text/x-python",
   "name": "python",
   "nbconvert_exporter": "python",
   "pygments_lexer": "ipython3",
   "version": "3.11.0"
  }
 },
 "nbformat": 4,
 "nbformat_minor": 5
}
